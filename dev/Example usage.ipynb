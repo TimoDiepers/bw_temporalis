{
 "cells": [
  {
   "cell_type": "code",
   "execution_count": 1,
   "id": "d8cd7a3f",
   "metadata": {
    "tags": []
   },
   "outputs": [],
   "source": [
    "from bw_temporalis import TemporalDistribution as TD, TemporalisLCA, Timeline\n",
    "import bw2data as bd\n",
    "import bw2calc as bc\n",
    "import bw2speedups\n",
    "import bw_graph_tools as graph\n",
    "import bw_temporalis as bwt\n",
    "import numpy as np"
   ]
  },
  {
   "cell_type": "code",
   "execution_count": 2,
   "id": "d00df98a-fcae-4160-a30f-54aed29c1f19",
   "metadata": {
    "tags": []
   },
   "outputs": [],
   "source": [
    "bd.projects.set_current(\"Temporalis example project\")"
   ]
  },
  {
   "cell_type": "code",
   "execution_count": 3,
   "id": "79a523bc",
   "metadata": {
    "tags": []
   },
   "outputs": [
    {
     "name": "stderr",
     "output_type": "stream",
     "text": [
      "Writing activities to SQLite3 database:\n"
     ]
    },
    {
     "name": "stdout",
     "output_type": "stream",
     "text": [
      "Not able to determine geocollections for all datasets. This database is not ready for regionalization.\n"
     ]
    },
    {
     "name": "stderr",
     "output_type": "stream",
     "text": [
      "0% [##############] 100% | ETA: 00:00:00\n",
      "Total time elapsed: 00:00:00\n"
     ]
    },
    {
     "name": "stdout",
     "output_type": "stream",
     "text": [
      "Title: Writing activities to SQLite3 database:\n",
      "  Started: 04/26/2023 21:30:12\n",
      "  Finished: 04/26/2023 21:30:12\n",
      "  Total time elapsed: 00:00:00\n",
      "  CPU %: 104.50\n",
      "  Memory %: 0.96\n"
     ]
    }
   ],
   "source": [
    "bd.Database('temporalis-example').write({\n",
    "    ('temporalis-example', \"CO2\"): {\n",
    "        \"type\": \"emission\",\n",
    "        \"name\": \"carbon dioxide\",\n",
    "        \"temporalis code\": \"co2\",\n",
    "    },\n",
    "    ('temporalis-example', \"CH4\"): {\n",
    "        \"type\": \"emission\",\n",
    "        \"name\": \"methane\",\n",
    "        \"temporalis code\": \"ch4\",\n",
    "    },\n",
    "    ('temporalis-example', 'Functional Unit'): {\n",
    "        'name': 'Functional Unit',\n",
    "        'exchanges': [\n",
    "            {\n",
    "                'amount': 5,\n",
    "                'input': ('temporalis-example', 'EOL'),\n",
    "                'temporal distribution': TD(\n",
    "                    np.array([0, 1, 2, 3, 4], dtype='timedelta64[Y]') ,\n",
    "                    np.array([1.0, 1.0, 1.0, 1.0, 1.0])\n",
    "                ),\n",
    "                'type': 'technosphere'\n",
    "            },\n",
    "        ],\n",
    "    },\n",
    "    ('temporalis-example', 'EOL'): {\n",
    "        'exchanges': [\n",
    "            {\n",
    "                'amount': 0.8,\n",
    "                'input': ('temporalis-example', 'Waste'),\n",
    "                'type': 'technosphere'\n",
    "            },\n",
    "            {\n",
    "                'amount': 0.2,\n",
    "                'input': ('temporalis-example', 'Landfill'),\n",
    "                'type': 'technosphere'\n",
    "            },\n",
    "            {\n",
    "                'amount': 1,\n",
    "                'input': ('temporalis-example', 'Use'),\n",
    "                'type': 'technosphere'\n",
    "            },\n",
    "        ],\n",
    "        'name': 'EOL',\n",
    "        'type': 'process'\n",
    "    },\n",
    "    ('temporalis-example', 'Use'): {\n",
    "        'exchanges': [\n",
    "            {\n",
    "                'amount': 1,\n",
    "                'input': ('temporalis-example', 'Production'),\n",
    "                'temporal distribution': TD(\n",
    "                    np.array([4], dtype='timedelta64[M]'),\n",
    "                    np.array([1.0])\n",
    "                ),\n",
    "                'type': 'technosphere'\n",
    "            },\n",
    "        ],\n",
    "        'name': 'Use',\n",
    "    },\n",
    "    ('temporalis-example', 'Production'): {\n",
    "        'exchanges': [\n",
    "            {\n",
    "                'amount': 1,\n",
    "                'input': ('temporalis-example', 'Transport'),\n",
    "                'temporal distribution': TD(\n",
    "                    np.array([200],dtype='timedelta64[D]'),\n",
    "                    np.array([1.0])\n",
    "                ),\n",
    "                'type': 'technosphere'\n",
    "            },\n",
    "        ],\n",
    "        'name': 'Production',\n",
    "        'type': 'process'\n",
    "    },\n",
    "    ('temporalis-example', 'Transport'): {\n",
    "        'exchanges': [\n",
    "            {\n",
    "                'amount': 1,\n",
    "                'input': ('temporalis-example', 'Sawmill'),\n",
    "                'type': 'technosphere'\n",
    "            },\n",
    "            {\n",
    "                'amount': 0.1,\n",
    "                'input': ('temporalis-example', 'CO2'),\n",
    "                'type': 'biosphere'\n",
    "            },\n",
    "        ],\n",
    "        'name': 'Production',\n",
    "        'type': 'process'\n",
    "    },\n",
    "    ('temporalis-example', 'Sawmill'): {\n",
    "        'exchanges': [\n",
    "            {\n",
    "                'amount': 1.2,\n",
    "                'input': ('temporalis-example', 'Forest'),\n",
    "                'temporal distribution': TD(\n",
    "                    np.array([14], dtype='timedelta64[M]'),\n",
    "                    np.array([1.2])\n",
    "                ),\n",
    "                'type': 'technosphere'\n",
    "            },\n",
    "            {\n",
    "                'amount': 0.1,\n",
    "                'input': ('temporalis-example', 'CO2'),\n",
    "                'type': 'biosphere'\n",
    "            },\n",
    "        ],\n",
    "        'name': 'Sawmill',\n",
    "        'type': 'process'\n",
    "    },\n",
    "    ('temporalis-example', 'Forest'): {\n",
    "        'exchanges': [\n",
    "            {\n",
    "                'amount': -.2 * 6,\n",
    "                'input': ('temporalis-example', 'CO2'),\n",
    "                'temporal distribution': TD(\n",
    "                    np.array([-4, -3, 0, 1, 2, 5], dtype='timedelta64[Y]'),\n",
    "                    np.array([-.2]*6)\n",
    "                ),\n",
    "                'type': 'biosphere'\n",
    "            },\n",
    "            {\n",
    "                'amount': 1.5,\n",
    "                'input': ('temporalis-example', 'Thinning'),\n",
    "                'temporal distribution': TD(\n",
    "                    np.array([-3, 0, 1], dtype='timedelta64[Y]'),\n",
    "                    np.array([.5] * 3)\n",
    "                ),\n",
    "                'type': 'technosphere'\n",
    "            },\n",
    "        ],\n",
    "        'name': 'Forest',\n",
    "    },\n",
    "    ('temporalis-example', 'Thinning'): {\n",
    "        'exchanges': [\n",
    "            {\n",
    "                'amount': 1,\n",
    "                'input': ('temporalis-example', 'Thinning'),\n",
    "                'type': 'production'\n",
    "            },\n",
    "            {\n",
    "                'amount': 1,\n",
    "                'input': ('temporalis-example', 'Avoided impact - thinnings'),\n",
    "                'type': 'production'\n",
    "            },\n",
    "        ],\n",
    "        'name': 'Thinning',\n",
    "        'type': 'process'\n",
    "    },\n",
    "    ('temporalis-example', 'Landfill'): {\n",
    "        'exchanges': [\n",
    "            {\n",
    "                'amount': 0.1,\n",
    "                'input': ('temporalis-example', 'CH4'),\n",
    "                'temporal distribution': TD(\n",
    "                    np.array([10, 20, 40, 60], dtype='timedelta64[M]'),\n",
    "                    np.array([0.025] * 4)\n",
    "                ),\n",
    "                'type': 'biosphere'\n",
    "            },\n",
    "        ],\n",
    "        'name': 'Landfill',\n",
    "        'type': 'process'\n",
    "    },\n",
    "    ('temporalis-example', 'Waste'): {\n",
    "        'exchanges': [\n",
    "            {\n",
    "                'amount': 1,\n",
    "                'input': ('temporalis-example', 'Waste'),\n",
    "                'type': 'production'\n",
    "            },\n",
    "            {\n",
    "                'amount': 1,\n",
    "                'input': ('temporalis-example', 'Avoided impact - waste'),\n",
    "                'type': 'production'\n",
    "            },\n",
    "        ],\n",
    "        'name': 'Waste',\n",
    "        'type': 'process'\n",
    "    },\n",
    "    ('temporalis-example', 'Avoided impact - waste'): {\n",
    "        'exchanges': [\n",
    "            {\n",
    "                'amount': -0.6,\n",
    "                'input': ('temporalis-example', 'CO2'),\n",
    "                'type': 'biosphere'\n",
    "            },\n",
    "            {\n",
    "                'amount': 1,\n",
    "                'input': ('temporalis-example', 'Avoided impact - waste'),\n",
    "                'type': 'production'\n",
    "            },\n",
    "        ],\n",
    "        'name': 'Avoided impact - waste',\n",
    "        'type': 'process'\n",
    "    },\n",
    "    ('temporalis-example', 'Avoided impact - thinnings'): {\n",
    "        'exchanges': [\n",
    "            {\n",
    "                'amount': -0.2,\n",
    "                'input': ('temporalis-example', 'CO2'),\n",
    "                'type': 'biosphere'\n",
    "            },\n",
    "            {\n",
    "                'amount': 1,\n",
    "                'input': ('temporalis-example', 'Avoided impact - thinnings'),\n",
    "                'type': 'production'\n",
    "            },\n",
    "        ],\n",
    "        'name': 'Avoided impact - thinnings',\n",
    "        'type': 'process'\n",
    "    }\n",
    "})"
   ]
  },
  {
   "cell_type": "code",
   "execution_count": 4,
   "id": "8e02b150-0249-4884-90ad-f129c2c13eb2",
   "metadata": {
    "tags": []
   },
   "outputs": [],
   "source": [
    "bd.Method((\"GWP\", \"example\")).write([\n",
    "    (('temporalis-example', \"CO2\"), 1),\n",
    "    (('temporalis-example', \"CH4\"), 25),\n",
    "])"
   ]
  },
  {
   "cell_type": "code",
   "execution_count": 5,
   "id": "cca6b8f2-12a3-43f9-8be2-c6a898268adf",
   "metadata": {
    "tags": []
   },
   "outputs": [],
   "source": [
    "lca = bc.LCA({('temporalis-example', 'EOL'): 1}, (\"GWP\", \"example\"))\n",
    "lca.lci()\n",
    "lca.lcia()"
   ]
  },
  {
   "cell_type": "code",
   "execution_count": 6,
   "id": "d3d56515-377a-4086-921f-c8fd7efca39f",
   "metadata": {
    "tags": []
   },
   "outputs": [
    {
     "name": "stdout",
     "output_type": "stream",
     "text": [
      "Starting graph traversal\n",
      "After first heuristic:\n",
      "[ 0  1  2  3  4  5  6  7  8  9 10 11] [ 0  1  2  3  4  5  6  7  8  9 10 11]\n",
      "Calculation count: 21\n"
     ]
    }
   ],
   "source": [
    "lca = TemporalisLCA(lca)"
   ]
  },
  {
   "cell_type": "code",
   "execution_count": 7,
   "id": "71a4206c-130e-4e91-b189-6b3c9cd11eeb",
   "metadata": {
    "tags": []
   },
   "outputs": [],
   "source": [
    "tl = lca.build_timeline()"
   ]
  },
  {
   "cell_type": "code",
   "execution_count": 8,
   "id": "673aa208-ce4a-451a-a0c9-1d7e287a12a3",
   "metadata": {
    "tags": []
   },
   "outputs": [],
   "source": [
    "tl.build_dataframe()"
   ]
  },
  {
   "cell_type": "code",
   "execution_count": 9,
   "id": "0282984b-5b56-46f6-92d1-e8a35d0c1623",
   "metadata": {
    "tags": []
   },
   "outputs": [
    {
     "data": {
      "text/html": [
       "<div>\n",
       "<style scoped>\n",
       "    .dataframe tbody tr th:only-of-type {\n",
       "        vertical-align: middle;\n",
       "    }\n",
       "\n",
       "    .dataframe tbody tr th {\n",
       "        vertical-align: top;\n",
       "    }\n",
       "\n",
       "    .dataframe thead th {\n",
       "        text-align: right;\n",
       "    }\n",
       "</style>\n",
       "<table border=\"1\" class=\"dataframe\">\n",
       "  <thead>\n",
       "    <tr style=\"text-align: right;\">\n",
       "      <th></th>\n",
       "      <th>times</th>\n",
       "      <th>values</th>\n",
       "      <th>flows</th>\n",
       "      <th>activities</th>\n",
       "    </tr>\n",
       "  </thead>\n",
       "  <tbody>\n",
       "    <tr>\n",
       "      <th>7</th>\n",
       "      <td>2021-05-12</td>\n",
       "      <td>-0.240</td>\n",
       "      <td>1</td>\n",
       "      <td>9</td>\n",
       "    </tr>\n",
       "    <tr>\n",
       "      <th>8</th>\n",
       "      <td>2022-05-12</td>\n",
       "      <td>-0.240</td>\n",
       "      <td>1</td>\n",
       "      <td>9</td>\n",
       "    </tr>\n",
       "    <tr>\n",
       "      <th>13</th>\n",
       "      <td>2022-05-12</td>\n",
       "      <td>-0.120</td>\n",
       "      <td>1</td>\n",
       "      <td>14</td>\n",
       "    </tr>\n",
       "    <tr>\n",
       "      <th>4</th>\n",
       "      <td>2023-04-26</td>\n",
       "      <td>-0.480</td>\n",
       "      <td>1</td>\n",
       "      <td>13</td>\n",
       "    </tr>\n",
       "    <tr>\n",
       "      <th>0</th>\n",
       "      <td>2024-02-24</td>\n",
       "      <td>0.005</td>\n",
       "      <td>2</td>\n",
       "      <td>11</td>\n",
       "    </tr>\n",
       "    <tr>\n",
       "      <th>5</th>\n",
       "      <td>2024-03-12</td>\n",
       "      <td>0.100</td>\n",
       "      <td>1</td>\n",
       "      <td>7</td>\n",
       "    </tr>\n",
       "    <tr>\n",
       "      <th>6</th>\n",
       "      <td>2024-03-12</td>\n",
       "      <td>0.100</td>\n",
       "      <td>1</td>\n",
       "      <td>8</td>\n",
       "    </tr>\n",
       "    <tr>\n",
       "      <th>1</th>\n",
       "      <td>2024-12-24</td>\n",
       "      <td>0.005</td>\n",
       "      <td>2</td>\n",
       "      <td>11</td>\n",
       "    </tr>\n",
       "    <tr>\n",
       "      <th>9</th>\n",
       "      <td>2025-05-12</td>\n",
       "      <td>-0.240</td>\n",
       "      <td>1</td>\n",
       "      <td>9</td>\n",
       "    </tr>\n",
       "    <tr>\n",
       "      <th>14</th>\n",
       "      <td>2025-05-12</td>\n",
       "      <td>-0.120</td>\n",
       "      <td>1</td>\n",
       "      <td>14</td>\n",
       "    </tr>\n",
       "    <tr>\n",
       "      <th>10</th>\n",
       "      <td>2026-05-12</td>\n",
       "      <td>-0.240</td>\n",
       "      <td>1</td>\n",
       "      <td>9</td>\n",
       "    </tr>\n",
       "    <tr>\n",
       "      <th>15</th>\n",
       "      <td>2026-05-12</td>\n",
       "      <td>-0.120</td>\n",
       "      <td>1</td>\n",
       "      <td>14</td>\n",
       "    </tr>\n",
       "    <tr>\n",
       "      <th>2</th>\n",
       "      <td>2026-08-25</td>\n",
       "      <td>0.005</td>\n",
       "      <td>2</td>\n",
       "      <td>11</td>\n",
       "    </tr>\n",
       "    <tr>\n",
       "      <th>11</th>\n",
       "      <td>2027-05-12</td>\n",
       "      <td>-0.240</td>\n",
       "      <td>1</td>\n",
       "      <td>9</td>\n",
       "    </tr>\n",
       "    <tr>\n",
       "      <th>3</th>\n",
       "      <td>2028-04-25</td>\n",
       "      <td>0.005</td>\n",
       "      <td>2</td>\n",
       "      <td>11</td>\n",
       "    </tr>\n",
       "    <tr>\n",
       "      <th>12</th>\n",
       "      <td>2030-05-12</td>\n",
       "      <td>-0.240</td>\n",
       "      <td>1</td>\n",
       "      <td>9</td>\n",
       "    </tr>\n",
       "  </tbody>\n",
       "</table>\n",
       "</div>"
      ],
      "text/plain": [
       "        times  values  flows  activities\n",
       "7  2021-05-12  -0.240      1           9\n",
       "8  2022-05-12  -0.240      1           9\n",
       "13 2022-05-12  -0.120      1          14\n",
       "4  2023-04-26  -0.480      1          13\n",
       "0  2024-02-24   0.005      2          11\n",
       "5  2024-03-12   0.100      1           7\n",
       "6  2024-03-12   0.100      1           8\n",
       "1  2024-12-24   0.005      2          11\n",
       "9  2025-05-12  -0.240      1           9\n",
       "14 2025-05-12  -0.120      1          14\n",
       "10 2026-05-12  -0.240      1           9\n",
       "15 2026-05-12  -0.120      1          14\n",
       "2  2026-08-25   0.005      2          11\n",
       "11 2027-05-12  -0.240      1           9\n",
       "3  2028-04-25   0.005      2          11\n",
       "12 2030-05-12  -0.240      1           9"
      ]
     },
     "execution_count": 9,
     "metadata": {},
     "output_type": "execute_result"
    }
   ],
   "source": [
    "tl.df"
   ]
  },
  {
   "cell_type": "code",
   "execution_count": 10,
   "id": "d7dcb7be-3cc4-43bb-8aad-a7081d04efe5",
   "metadata": {
    "tags": []
   },
   "outputs": [
    {
     "data": {
      "text/plain": [
       "<Axes: xlabel='times'>"
      ]
     },
     "execution_count": 10,
     "metadata": {},
     "output_type": "execute_result"
    },
    {
     "data": {
      "image/png": "[encoded data removed]",
      "text/plain": [
       "<Figure size 640x480 with 1 Axes>"
      ]
     },
     "metadata": {},
     "output_type": "display_data"
    }
   ],
   "source": [
    "tl.df.plot(x=\"times\", y=\"values\")"
   ]
  },
  {
   "cell_type": "code",
   "execution_count": null,
   "id": "8f7e56d3-b8e3-4b7f-9ab4-94c1b88db513",
   "metadata": {},
   "outputs": [],
   "source": []
  }
 ],
 "metadata": {
  "kernelspec": {
   "display_name": "Python 3 (ipykernel)",
   "language": "python",
   "name": "python3"
  },
  "language_info": {
   "codemirror_mode": {
    "name": "ipython",
    "version": 3
   },
   "file_extension": ".py",
   "mimetype": "text/x-python",
   "name": "python",
   "nbconvert_exporter": "python",
   "pygments_lexer": "ipython3",
   "version": "3.10.10"
  }
 },
 "nbformat": 4,
 "nbformat_minor": 5
}
